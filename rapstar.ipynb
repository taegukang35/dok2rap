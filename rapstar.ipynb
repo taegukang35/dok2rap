{
  "nbformat": 4,
  "nbformat_minor": 0,
  "metadata": {
    "colab": {
      "name": "rapstar.ipynb",
      "private_outputs": true,
      "provenance": [],
      "collapsed_sections": []
    },
    "kernelspec": {
      "name": "python3",
      "display_name": "Python 3"
    },
    "language_info": {
      "name": "python"
    }
  },
  "cells": [
    {
      "cell_type": "code",
      "metadata": {
        "id": "iZR2wN3GwDti"
      },
      "source": [
        "from konlpy.tag import Okt\n",
        "lylics = open(\"/content/dok2.txt\",\"r\",encoding='UTF8')\n",
        "lylics = lylics.read()\n",
        "lylics = lylics.replace(\"...\",\"\")\n",
        "markov = {}\n",
        "okt = Okt()\n",
        "word_list = okt.pos(lylics)\n",
        "words = []\n",
        "for i in range(len(word_list)):\n",
        "    if not word_list[i][1] == 'Punctuation':\n",
        "        words.append(word_list[i][0])\n",
        "\n",
        "bigrams = [(words[i],words[i+1]) for i in range(0,len(words)-1)]\n",
        "for i in bigrams:\n",
        "    if i[0] not in bigrams:\n",
        "        markov[i[0]] = []\n",
        "        markov[i[0]].append(i[1])\n",
        "    else:\n",
        "        markov[i[0]].append(i[1])\n",
        "print(markov)"
      ],
      "execution_count": null,
      "outputs": []
    },
    {
      "cell_type": "code",
      "metadata": {
        "id": "kmA8jImuw5zp"
      },
      "source": [
        "!pip install konlpy"
      ],
      "execution_count": null,
      "outputs": []
    },
    {
      "cell_type": "code",
      "metadata": {
        "id": "Pyi8p7Y_xAOl"
      },
      "source": [
        "dic = {}\n",
        "for i in bigrams:\n",
        "    if not i[0] in dic:\n",
        "        dic[i[0]] = []\n",
        "        dic[i[0]].append(i[1])\n",
        "    if i[0] in dic:\n",
        "        dic[i[0]].append(i[1])"
      ],
      "execution_count": null,
      "outputs": []
    },
    {
      "cell_type": "markdown",
      "metadata": {
        "id": "J-_z-gYnUtpf"
      },
      "source": [
        ""
      ]
    },
    {
      "cell_type": "code",
      "metadata": {
        "id": "kU9VC6D5x92L"
      },
      "source": [
        "print(dic)"
      ],
      "execution_count": null,
      "outputs": []
    },
    {
      "cell_type": "code",
      "metadata": {
        "id": "Bmx35yLY2mzL"
      },
      "source": [
        "import random\n",
        "verse = []\n",
        "a,b = 0,0\n",
        "print(random.choice(list(dic.keys())))\n",
        "for i in range(100):\n",
        "    a = random.choice(list(dic.keys()))\n",
        "    verse.append(a)\n",
        "    b = random.choice(dic[a])\n",
        "    verse.append(b)\n",
        "    b = a\n",
        "print(\" \".join(verse))"
      ],
      "execution_count": null,
      "outputs": []
    },
    {
      "cell_type": "code",
      "metadata": {
        "id": "L6m2kUJldeMf"
      },
      "source": [
        "import random\n",
        "verse = []\n",
        "a,b = 0,0\n",
        "print(random.choice(list(dic.keys())))\n",
        "for i in range(100):\n",
        "    a = random.choice(list(dic.keys()))\n",
        "    verse.append(a)\n",
        "    b = random.choice(dic[a])\n",
        "    verse.append(b)\n",
        "    b = a\n",
        "print(\" \".join(verse))"
      ],
      "execution_count": null,
      "outputs": []
    },
    {
      "cell_type": "code",
      "metadata": {
        "id": "pJ24_YlngZAX"
      },
      "source": [
        "import random\n",
        "verse = []\n",
        "a,b = 0,0\n",
        "print(random.choice(list(dic.keys())))\n",
        "for i in range(100):\n",
        "    a = random.choice(list(dic.keys()))\n",
        "    verse.append(a)\n",
        "    b = random.choice(dic[a])\n",
        "    verse.append(b)\n",
        "    b = a\n",
        "print(\" \".join(verse))"
      ],
      "execution_count": null,
      "outputs": []
    },
    {
      "cell_type": "code",
      "metadata": {
        "id": "fBf-oZ8Sg1pT"
      },
      "source": [
        "import random\n",
        "verse = []\n",
        "a,b = 0,0\n",
        "print(random.choice(list(dic.keys())))\n",
        "for i in range(20):\n",
        "    for j in range(5):\n",
        "        a = random.choice(list(dic.keys()))\n",
        "        verse.append(a)\n",
        "        b = random.choice(dic[a])\n",
        "        verse.append(b)\n",
        "        b = a\n",
        "    verse.append(\"\\n\")\n",
        "print(\" \".join(verse))"
      ],
      "execution_count": null,
      "outputs": []
    },
    {
      "cell_type": "code",
      "metadata": {
        "id": "6QVchjs1hRy1"
      },
      "source": [
        "import random\n",
        "verse = []\n",
        "a,b = 0,0\n",
        "print(random.choice(list(dic.keys())))\n",
        "for i in range(20):\n",
        "    for j in range(4):\n",
        "        a = random.choice(list(dic.keys()))\n",
        "        verse.append(a)\n",
        "        b = random.choice(dic[a])\n",
        "        verse.append(b)\n",
        "        b = a\n",
        "    verse.append(\"\\n\")\n",
        "print(\" \".join(verse))"
      ],
      "execution_count": null,
      "outputs": []
    },
    {
      "cell_type": "code",
      "metadata": {
        "id": "l-Lb3SoChy4s"
      },
      "source": [
        "import random\n",
        "verse = []\n",
        "a,b = 0,0\n",
        "print(random.choice(list(dic.keys())))\n",
        "for i in range(20):\n",
        "    for j in range(2):\n",
        "        a = random.choice(list(dic.keys()))\n",
        "        verse.append(a)\n",
        "        b = random.choice(dic[a])\n",
        "        verse.append(b)\n",
        "        b = a\n",
        "    verse.append(\"\\n\")\n",
        "print(\" \".join(verse))"
      ],
      "execution_count": null,
      "outputs": []
    },
    {
      "cell_type": "code",
      "metadata": {
        "id": "Km9caN2BiOoa"
      },
      "source": [
        "import random\n",
        "verse = []\n",
        "a,b = 0,0\n",
        "print(random.choice(list(dic.keys())))\n",
        "for i in range(20):\n",
        "    for j in range(4):\n",
        "        a = random.choice(list(dic.keys()))\n",
        "        verse.append(a)\n",
        "        b = random.choice(dic[a])\n",
        "        verse.append(b)\n",
        "        b = a\n",
        "    verse.append(\"\\n\")\n",
        "print(\" \".join(verse))"
      ],
      "execution_count": null,
      "outputs": []
    },
    {
      "cell_type": "code",
      "metadata": {
        "id": "F6B7VmTfihYI"
      },
      "source": [
        "import random\n",
        "verse = []\n",
        "a,b = 0,0\n",
        "print(random.choice(list(dic.keys())))\n",
        "for i in range(20):\n",
        "    for j in range(random.choice([3,4])):\n",
        "        a = random.choice(list(dic.keys()))\n",
        "        verse.append(a)\n",
        "        b = random.choice(dic[a])\n",
        "        verse.append(b)\n",
        "        b = a\n",
        "    verse.append(\"\\n\")\n",
        "print(\" \".join(verse))"
      ],
      "execution_count": null,
      "outputs": []
    },
    {
      "cell_type": "code",
      "metadata": {
        "id": "mPiE5rbqknVi"
      },
      "source": [
        ""
      ],
      "execution_count": null,
      "outputs": []
    }
  ]
}